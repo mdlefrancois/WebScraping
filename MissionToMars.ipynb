{
 "cells": [
  {
   "cell_type": "markdown",
   "metadata": {},
   "source": [
    "# Mission to Mars\n",
    "Webscraping NASA Web Sites"
   ]
  },
  {
   "cell_type": "code",
   "execution_count": 1,
   "metadata": {},
   "outputs": [],
   "source": [
    "# Dependencies\n",
    "# Beautiful Soup\n",
    "from bs4 import BeautifulSoup as bs\n",
    "# Splinter web browser opener\n",
    "from splinter import Browser\n",
    "\n",
    "# Standard dependencies\n",
    "import os\n",
    "import pandas as pd\n",
    "import time\n",
    "import requests"
   ]
  },
  {
   "cell_type": "code",
   "execution_count": 2,
   "metadata": {},
   "outputs": [],
   "source": [
    "# Splinter for Windows.  Will open and run Google Chrose\n",
    "executable_path = {'executable_path': 'C:\\BIN\\chromedriver.exe'}\n",
    "\n",
    "#To use splinter a browser instance needs to be created\n",
    "browser = Browser('chrome', **executable_path, headless=False) #headless means no GUI\n",
    "\n",
    "# tutorial from splinter\n",
    "# https://splinter.readthedocs.io/en/latest/tutorial.html\n",
    "#This tutorial provides a simple example, teaching step by step how to:\n",
    "#search for splinter - python acceptance testing for web applications' in google.com, and\n",
    "#find if splinter official website is listed among the search results\n",
    "\n",
    "# from splinter import Browser\n",
    "\n",
    "# browser = Browser() # defaults to firefox\n",
    "# browser.visit('http://google.com')\n",
    "# browser.fill('q', 'splinter - python acceptance testing for web applications')\n",
    "# browser.find_by_name('btnG').click()\n",
    "\n",
    "# if browser.is_text_present('splinter.readthedocs.io'):\n",
    "#     print \"Yes, the official website was found!\"\n",
    "# else:\n",
    "#     print \"No, it wasn't found... We need to improve our SEO techniques\"\n",
    "\n",
    "# browser.quit()"
   ]
  },
  {
   "cell_type": "markdown",
   "metadata": {},
   "source": [
    "# Scrape NASA News"
   ]
  },
  {
   "cell_type": "code",
   "execution_count": 3,
   "metadata": {},
   "outputs": [],
   "source": [
    "#Scrape the NASA Mars News Site and collect the latest News Title and Paragraph Text. \n",
    "#Assign the text to variables that you can reference later.\n",
    "url = \"https://mars.nasa.gov/news/\"\n",
    "browser.visit(url) #uses splinter"
   ]
  },
  {
   "cell_type": "code",
   "execution_count": 4,
   "metadata": {},
   "outputs": [],
   "source": [
    "#using beautiful soup to write it into html\n",
    "#assign html content\n",
    "html = browser.html\n",
    "soup = bs(html,\"html.parser\")"
   ]
  },
  {
   "cell_type": "code",
   "execution_count": 5,
   "metadata": {},
   "outputs": [
    {
     "name": "stdout",
     "output_type": "stream",
     "text": [
      "Title: NASA Brings Mars Landing to Viewers Everywhere\n",
      "Para: NASA's InSight lander is scheduled to touch down on the Red Planet at approximately noon PST  on Nov. 26, with a new suite of instruments to probe below the Martian surface.\n"
     ]
    }
   ],
   "source": [
    "news_title = soup.find(\"div\",class_=\"content_title\").text\n",
    "news_paragraph = soup.find(\"div\", class_=\"article_teaser_body\").text\n",
    "print(f\"Title: {news_title}\")\n",
    "print(f\"Para: {news_paragraph}\")"
   ]
  },
  {
   "cell_type": "markdown",
   "metadata": {},
   "source": [
    "# Scrape JPL Images "
   ]
  },
  {
   "cell_type": "code",
   "execution_count": 6,
   "metadata": {},
   "outputs": [
    {
     "name": "stdout",
     "output_type": "stream",
     "text": [
      "https://www.jpl.nasa.gov/spaceimages/?search=&category=featured#submit/spaceimages/images/mediumsize/PIA18904_ip.jpg\n"
     ]
    }
   ],
   "source": [
    "#Scrape the JPL Mars Space Image Site. \n",
    "featured_image_url = \"https://www.jpl.nasa.gov/spaceimages/?search=&category=featured#submit\"\n",
    "browser.visit(featured_image_url)\n",
    "\n",
    "# assign html content\n",
    "html = browser.html\n",
    "# Create a Beautiful Soup object\n",
    "JPLContent = bs(html, \"html5lib\")\n",
    "\n",
    "#Scrape Path for the Feature Image. Get the partial path of the url\n",
    "image_address = JPLContent.find_all('a', class_='fancybox')[0].get('data-fancybox-href').strip()\n",
    "\n",
    "#final combined url\n",
    "Final_url = featured_image_url + image_address\n",
    "\n",
    "print(Final_url)"
   ]
  },
  {
   "cell_type": "markdown",
   "metadata": {},
   "source": [
    "# Scrape Mars Weather"
   ]
  },
  {
   "cell_type": "code",
   "execution_count": 65,
   "metadata": {},
   "outputs": [
    {
     "name": "stdout",
     "output_type": "stream",
     "text": [
      "Sol 2229 (2018-11-13), high -2C/28F, low -71C/-95F, pressure at 8.62 hPa, daylight 06:22-18:39\n"
     ]
    }
   ],
   "source": [
    "#Visit the Mars Weather twitter account and scrape the latest Mars weather tweet.\n",
    "#Save the tweet text for the weather report as a variable called mars_weather.\n",
    "url_weather = \"https://twitter.com/marswxreport?lang=en\"\n",
    "browser.visit(url_weather)\n",
    "\n",
    "html_weather = browser.html\n",
    "soup = bs(html_weather, \"html.parser\")\n",
    "mars_weather = soup.find(\"p\", class_=\"TweetTextSize TweetTextSize--normal js-tweet-text tweet-text\").text\n",
    "print(mars_weather)"
   ]
  },
  {
   "cell_type": "markdown",
   "metadata": {},
   "source": [
    "# Mars Facts"
   ]
  },
  {
   "cell_type": "code",
   "execution_count": 66,
   "metadata": {},
   "outputs": [
    {
     "data": {
      "text/html": [
       "<div>\n",
       "<style scoped>\n",
       "    .dataframe tbody tr th:only-of-type {\n",
       "        vertical-align: middle;\n",
       "    }\n",
       "\n",
       "    .dataframe tbody tr th {\n",
       "        vertical-align: top;\n",
       "    }\n",
       "\n",
       "    .dataframe thead th {\n",
       "        text-align: right;\n",
       "    }\n",
       "</style>\n",
       "<table border=\"1\" class=\"dataframe\">\n",
       "  <thead>\n",
       "    <tr style=\"text-align: right;\">\n",
       "      <th></th>\n",
       "      <th>Values</th>\n",
       "    </tr>\n",
       "    <tr>\n",
       "      <th>Description</th>\n",
       "      <th></th>\n",
       "    </tr>\n",
       "  </thead>\n",
       "  <tbody>\n",
       "    <tr>\n",
       "      <th>Equatorial Diameter:</th>\n",
       "      <td>6,792 km</td>\n",
       "    </tr>\n",
       "    <tr>\n",
       "      <th>Polar Diameter:</th>\n",
       "      <td>6,752 km</td>\n",
       "    </tr>\n",
       "    <tr>\n",
       "      <th>Mass:</th>\n",
       "      <td>6.42 x 10^23 kg (10.7% Earth)</td>\n",
       "    </tr>\n",
       "    <tr>\n",
       "      <th>Moons:</th>\n",
       "      <td>2 (Phobos &amp; Deimos)</td>\n",
       "    </tr>\n",
       "    <tr>\n",
       "      <th>Orbit Distance:</th>\n",
       "      <td>227,943,824 km (1.52 AU)</td>\n",
       "    </tr>\n",
       "    <tr>\n",
       "      <th>Orbit Period:</th>\n",
       "      <td>687 days (1.9 years)</td>\n",
       "    </tr>\n",
       "    <tr>\n",
       "      <th>Surface Temperature:</th>\n",
       "      <td>-153 to 20 °C</td>\n",
       "    </tr>\n",
       "    <tr>\n",
       "      <th>First Record:</th>\n",
       "      <td>2nd millennium BC</td>\n",
       "    </tr>\n",
       "    <tr>\n",
       "      <th>Recorded By:</th>\n",
       "      <td>Egyptian astronomers</td>\n",
       "    </tr>\n",
       "  </tbody>\n",
       "</table>\n",
       "</div>"
      ],
      "text/plain": [
       "                                             Values\n",
       "Description                                        \n",
       "Equatorial Diameter:                       6,792 km\n",
       "Polar Diameter:                            6,752 km\n",
       "Mass:                 6.42 x 10^23 kg (10.7% Earth)\n",
       "Moons:                          2 (Phobos & Deimos)\n",
       "Orbit Distance:            227,943,824 km (1.52 AU)\n",
       "Orbit Period:                  687 days (1.9 years)\n",
       "Surface Temperature:                  -153 to 20 °C\n",
       "First Record:                     2nd millennium BC\n",
       "Recorded By:                   Egyptian astronomers"
      ]
     },
     "execution_count": 66,
     "metadata": {},
     "output_type": "execute_result"
    }
   ],
   "source": [
    "#Visit the Mars Facts webpage and use Pandas to scrape the table containing facts about the planet including \n",
    "#Diameter, Mass, etc. Use Pandas to convert the data to a HTML table string.\n",
    "url_facts = \"https://space-facts.com/mars/\"\n",
    "\n",
    "#Read HTML tables into a list of DataFrame objects.\n",
    "MarsFacts = pd.read_html(url_facts)\n",
    "\n",
    "#pull the first entry in the list\n",
    "df_mars_facts = MarsFacts[0]\n",
    "df_mars_facts.columns = [\"Description\", \"Values\"]\n",
    "df_mars_facts.set_index([\"Description\"])"
   ]
  },
  {
   "cell_type": "markdown",
   "metadata": {},
   "source": [
    "# Mars Hemispheres"
   ]
  },
  {
   "cell_type": "code",
   "execution_count": 69,
   "metadata": {},
   "outputs": [
    {
     "data": {
      "text/plain": [
       "[{'title': 'Cerberus Hemisphere Enhanced',\n",
       "  'img_url': 'http://astropedia.astrogeology.usgs.gov/download/Mars/Viking/cerberus_enhanced.tif/full.jpg'},\n",
       " {'title': 'Schiaparelli Hemisphere Enhanced',\n",
       "  'img_url': 'http://astropedia.astrogeology.usgs.gov/download/Mars/Viking/schiaparelli_enhanced.tif/full.jpg'},\n",
       " {'title': 'Syrtis Major Hemisphere Enhanced',\n",
       "  'img_url': 'http://astropedia.astrogeology.usgs.gov/download/Mars/Viking/syrtis_major_enhanced.tif/full.jpg'},\n",
       " {'title': 'Valles Marineris Hemisphere Enhanced',\n",
       "  'img_url': 'http://astropedia.astrogeology.usgs.gov/download/Mars/Viking/valles_marineris_enhanced.tif/full.jpg'}]"
      ]
     },
     "execution_count": 69,
     "metadata": {},
     "output_type": "execute_result"
    }
   ],
   "source": [
    "#Visit the USGS Astrogeology site to obtain high resolution images for each of Mar's hemispheres.\n",
    "#Click each of the links to the hemispheres in order to find the image url to the full resolution image.\n",
    "#Save image url string for the full resolution hemisphere image, and the Hemisphere title. \n",
    "#Use a Python dictionary to store the data using the keys img_url and title.\n",
    "#Append the dictionary with the image url string and the hemisphere title to a list. \n",
    "#This list will contain one dictionary for each hemisphere.\n",
    "\n",
    "# hemisphere_image_urls = [\n",
    "#     {\"title\": \"Valles Marineris Hemisphere\", \"img_url\": \"...\"},\n",
    "#     {\"title\": \"Cerberus Hemisphere\", \"img_url\": \"...\"},\n",
    "#     {\"title\": \"Schiaparelli Hemisphere\", \"img_url\": \"...\"},\n",
    "#     {\"title\": \"Syrtis Major Hemisphere\", \"img_url\": \"...\"},\n",
    "\n",
    "# assigned list to store:\n",
    "# create empty dict\n",
    "hemisphere_image_urls = []\n",
    "dict = {}\n",
    "\n",
    "# URL of page to be scraped\n",
    "# assign html content\n",
    "# Create Beautiful Soup object\n",
    "url_images = 'https://astrogeology.usgs.gov/search/results?q=hemisphere+enhanced&k1=target&v1=Mars'\n",
    "browser.visit(url_images)\n",
    "html = browser.html\n",
    "soup = bs(html,\"html5lib\")\n",
    "\n",
    "# Scrape all the titles of each hemisphere on the page\n",
    "results = soup.find_all('h3')\n",
    "\n",
    "# Loop through each hemisphere title found on the page\n",
    "for result in results:\n",
    "    \n",
    "    # Get title text from result\n",
    "    titles = result.text\n",
    "    \n",
    "    # Use splinter - click on the title text\n",
    "    browser.click_link_by_partial_text(titles)\n",
    "    \n",
    "    # pull the pages html content, place into html for soup\n",
    "    html = browser.html\n",
    "\n",
    "    # Create a Beautiful Soup object for holding all the html content\n",
    "    html_soup = bs(html,\"html5lib\")\n",
    "    \n",
    "    # Grab the image link\n",
    "    links = html_soup.find_all('div', class_=\"downloads\")[0].find_all('a')[0].get(\"href\")\n",
    "    \n",
    "    # Pass title to Dict\n",
    "    # Pass url to Dict\n",
    "    dict[\"title\"]=titles\n",
    "    dict[\"img_url\"]=links\n",
    "    \n",
    "    # Append the dictionay\n",
    "    hemisphere_image_urls.append(dict)\n",
    "    \n",
    "    # Clean Up dictionary for other entries\n",
    "    dict = {}\n",
    "    \n",
    "    # move back in the webpage and pull info for next titles\n",
    "    browser.click_link_by_partial_text('Back')\n",
    "\n",
    "# print image information\n",
    "hemisphere_image_urls"
   ]
  },
  {
   "cell_type": "code",
   "execution_count": null,
   "metadata": {},
   "outputs": [],
   "source": []
  }
 ],
 "metadata": {
  "kernelspec": {
   "display_name": "Python [default]",
   "language": "python",
   "name": "python3"
  },
  "language_info": {
   "codemirror_mode": {
    "name": "ipython",
    "version": 3
   },
   "file_extension": ".py",
   "mimetype": "text/x-python",
   "name": "python",
   "nbconvert_exporter": "python",
   "pygments_lexer": "ipython3",
   "version": "3.6.5"
  },
  "nteract": {
   "version": "0.2.0"
  },
  "varInspector": {
   "cols": {
    "lenName": 16,
    "lenType": 16,
    "lenVar": 40
   },
   "kernels_config": {
    "python": {
     "delete_cmd_postfix": "",
     "delete_cmd_prefix": "del ",
     "library": "var_list.py",
     "varRefreshCmd": "print(var_dic_list())"
    },
    "r": {
     "delete_cmd_postfix": ") ",
     "delete_cmd_prefix": "rm(",
     "library": "var_list.r",
     "varRefreshCmd": "cat(var_dic_list()) "
    }
   },
   "types_to_exclude": [
    "module",
    "function",
    "builtin_function_or_method",
    "instance",
    "_Feature"
   ],
   "window_display": false
  }
 },
 "nbformat": 4,
 "nbformat_minor": 2
}
